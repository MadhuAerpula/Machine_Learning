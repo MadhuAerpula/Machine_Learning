{
 "cells": [
  {
   "cell_type": "code",
   "execution_count": 1,
   "id": "b89bba2b-abd4-4331-a749-003afe778331",
   "metadata": {},
   "outputs": [
    {
     "name": "stdout",
     "output_type": "stream",
     "text": [
      "0    10\n",
      "1    20\n",
      "2    30\n",
      "3    40\n",
      "dtype: int64\n"
     ]
    }
   ],
   "source": [
    "import pandas as pd\n",
    "data = [10,20,30,40]\n",
    "v = pd.Series(data)\n",
    "print(v)"
   ]
  },
  {
   "cell_type": "code",
   "execution_count": 3,
   "id": "f66c8868-a86f-4460-995a-3f8e4ad31023",
   "metadata": {},
   "outputs": [
    {
     "name": "stdout",
     "output_type": "stream",
     "text": [
      "      Name  Age         City\n",
      "0    Alice   25     New York\n",
      "1      Bob   30  Los Angeles\n",
      "2  Charlie   35      Chicago\n"
     ]
    }
   ],
   "source": [
    "data = {\n",
    "'Name': ['Alice', 'Bob', 'Charlie'],\n",
    "'Age': [25, 30, 35],\n",
    "'City': ['New York', 'Los Angeles', 'Chicago']\n",
    "}\n",
    "df = pd.DataFrame(data)\n",
    "print(df)"
   ]
  },
  {
   "cell_type": "code",
   "execution_count": 107,
   "id": "9a61e940-c781-41b1-995d-f0770bab15de",
   "metadata": {},
   "outputs": [
    {
     "name": "stdout",
     "output_type": "stream",
     "text": [
      "   TransactionID TransactionDate  UserID  ProductID  Quantity\n",
      "0              1      2010-08-21     7.0          2         1\n",
      "   TransactionID TransactionDate  UserID  ProductID  Quantity\n",
      "9             10      2016-05-08     3.0          4         4\n",
      "<class 'pandas.core.frame.DataFrame'>\n",
      "RangeIndex: 10 entries, 0 to 9\n",
      "Data columns (total 5 columns):\n",
      " #   Column           Non-Null Count  Dtype  \n",
      "---  ------           --------------  -----  \n",
      " 0   TransactionID    10 non-null     int64  \n",
      " 1   TransactionDate  10 non-null     object \n",
      " 2   UserID           9 non-null      float64\n",
      " 3   ProductID        10 non-null     int64  \n",
      " 4   Quantity         10 non-null     int64  \n",
      "dtypes: float64(1), int64(3), object(1)\n",
      "memory usage: 532.0+ bytes\n",
      "None\n",
      "       TransactionID    UserID  ProductID   Quantity\n",
      "count       10.00000  9.000000  10.000000  10.000000\n",
      "mean         5.50000  3.444444   3.400000   2.400000\n",
      "std          3.02765  2.127858   1.074968   1.712698\n",
      "min          1.00000  1.000000   2.000000   1.000000\n",
      "25%          3.25000  2.000000   2.250000   1.000000\n",
      "50%          5.50000  3.000000   4.000000   2.000000\n",
      "75%          7.75000  3.000000   4.000000   3.000000\n",
      "max         10.00000  7.000000   5.000000   6.000000\n",
      "0     1\n",
      "1     2\n",
      "2     3\n",
      "3     4\n",
      "4     5\n",
      "5     6\n",
      "6     7\n",
      "7     8\n",
      "8     9\n",
      "9    10\n",
      "Name: TransactionID, dtype: int64\n",
      "   TransactionID  UserID\n",
      "0              1     7.0\n",
      "1              2     3.0\n",
      "2              3     3.0\n",
      "3              4     1.0\n",
      "4              5     2.0\n",
      "5              6     2.0\n",
      "6              7     3.0\n",
      "7              8     NaN\n",
      "8              9     7.0\n",
      "9             10     3.0\n",
      "TransactionID               2\n",
      "TransactionDate    2011-05-26\n",
      "UserID                    3.0\n",
      "ProductID                   4\n",
      "Quantity                    1\n",
      "Name: 1, dtype: object\n",
      "   TransactionID TransactionDate  UserID  ProductID  Quantity\n",
      "2              3      2011-06-16     3.0          3         1\n",
      "3              4      2012-08-26     1.0          2         3\n",
      "4              5      2013-06-06     2.0          4         1\n",
      "5              6      2013-12-23     2.0          5         6\n",
      "6              7      2013-12-30     3.0          4         1\n",
      "7              8      2014-04-24     NaN          2         3\n",
      "8              9      2015-04-24     7.0          4         3\n",
      "9             10      2016-05-08     3.0          4         4\n",
      "   TID TransactionDate  UserID  ProductID  Quantity\n",
      "0    1      2010-08-21     7.0          2         1\n",
      "1    2      2011-05-26     3.0          4         1\n",
      "2    3      2011-06-16     3.0          3         1\n",
      "3    4      2012-08-26     1.0          2         3\n",
      "4    5      2013-06-06     2.0          4         1\n",
      "5    6      2013-12-23     2.0          5         6\n",
      "6    7      2013-12-30     3.0          4         1\n",
      "7    8      2014-04-24     NaN          2         3\n",
      "8    9      2015-04-24     7.0          4         3\n",
      "9   10      2016-05-08     3.0          4         4\n",
      "     TID  TransactionDate  UserID  ProductID  Quantity\n",
      "0  False            False   False      False     False\n",
      "1  False            False   False      False     False\n",
      "2  False            False   False      False     False\n",
      "3  False            False   False      False     False\n",
      "4  False            False   False      False     False\n",
      "5  False            False   False      False     False\n",
      "6  False            False   False      False     False\n",
      "7  False            False    True      False     False\n",
      "8  False            False   False      False     False\n",
      "9  False            False   False      False     False\n",
      "TID                0\n",
      "TransactionDate    0\n",
      "UserID             1\n",
      "ProductID          0\n",
      "Quantity           0\n",
      "dtype: int64\n",
      "   TID TransactionDate    UserID  ProductID  Quantity\n",
      "0    1      2010-08-21  7.000000          2         1\n",
      "1    2      2011-05-26  3.000000          4         1\n",
      "2    3      2011-06-16  3.000000          3         1\n",
      "3    4      2012-08-26  1.000000          2         3\n",
      "4    5      2013-06-06  2.000000          4         1\n",
      "5    6      2013-12-23  2.000000          5         6\n",
      "6    7      2013-12-30  3.000000          4         1\n",
      "7    8      2014-04-24  3.444444          2         3\n",
      "8    9      2015-04-24  7.000000          4         3\n",
      "9   10      2016-05-08  3.000000          4         4\n"
     ]
    }
   ],
   "source": [
    "import pandas as pd\n",
    "df=pd.read_csv(\"transactions.csv\")\n",
    "#viewing the data\n",
    "print(df.head(1))\n",
    "print(df.tail(1))\n",
    "print(df.info())\n",
    "print(df.describe())\n",
    "print(df['TransactionID'])\n",
    "print(df[['TransactionID','UserID']])\n",
    "print(df.iloc[1])\n",
    "\n",
    "#Filtering Data\n",
    "filtered_df = df[df['TransactionID'] >= 3]\n",
    "print(filtered_df)\n",
    "\n",
    "# renaming Columns\n",
    "df.rename(columns={'TransactionID':'TID'},inplace=True)\n",
    "print(df)\n",
    "\n",
    "#Handling Missing Data\n",
    "print(df.isnull())\n",
    "print(df.isnull().sum())\n",
    "df['UserID'].fillna(df['UserID'].mean(),inplace=True)\n",
    "print(df)\n",
    "df.dropna(inplace=True))"
   ]
  },
  {
   "cell_type": "code",
   "execution_count": 127,
   "id": "6b2b1ba4-5a0a-4378-920e-ab983317725a",
   "metadata": {},
   "outputs": [
    {
     "name": "stdout",
     "output_type": "stream",
     "text": [
      "   TID TransactionDate    UserID  ProductID  Quantity\n",
      "1    2      2011-05-26  3.000000          4         1\n",
      "4    5      2013-06-06  2.000000          4         1\n",
      "6    7      2013-12-30  3.000000          4         1\n",
      "2    3      2011-06-16  3.000000          3         1\n",
      "0    1      2010-08-21  7.000000          2         1\n",
      "8    9      2015-04-24  7.000000          4         3\n",
      "3    4      2012-08-26  1.000000          2         3\n",
      "7    8      2014-04-24  3.444444          2         3\n",
      "9   10      2016-05-08  3.000000          4         4\n",
      "5    6      2013-12-23  2.000000          5         6\n"
     ]
    }
   ],
   "source": [
    "df_sorted = df.sort_values(by = ['Quantity','ProductID'],ascending=[True,False])\n",
    "print(df_sorted)"
   ]
  },
  {
   "cell_type": "code",
   "execution_count": 139,
   "id": "64a0fae9-a2c9-4c8a-88d2-89cc185eade7",
   "metadata": {},
   "outputs": [
    {
     "name": "stdout",
     "output_type": "stream",
     "text": [
      "   TID TransactionDate  UserID  ProductID  Quantity\n",
      "0    1      2010-08-21     7.0          2         1\n",
      "2    3      2011-06-16     3.0          3         1\n",
      "6    7      2013-12-30     3.0          4         1\n",
      "   TID TransactionDate    UserID  ProductID  Quantity\n",
      "0    1      2010-08-21  7.000000          2         1\n",
      "1    2      2011-05-26  3.000000          4         1\n",
      "2    3      2011-06-16  3.000000          3         1\n",
      "3    4      2012-08-26  1.000000          2         3\n",
      "4    5      2013-06-06  2.000000          4         1\n",
      "5    6      2013-12-23  2.000000          5         6\n",
      "6    7      2013-12-30  3.000000          4         1\n",
      "7    8      2014-04-24  3.444444          2         3\n",
      "8    9      2015-04-24  7.000000          4         3\n",
      "9   10      2016-05-08  3.000000          4         4\n",
      "   TID TransactionDate  UserID  ProductID  Quantity\n",
      "0    1      2010-08-21     7.0          2         1\n",
      "2    3      2011-06-16     3.0          3         1\n",
      "3    4      2012-08-26     1.0          2         3\n",
      "6    7      2013-12-30     3.0          4         1\n",
      "8    9      2015-04-24     7.0          4         3\n",
      "   TID TransactionDate\n",
      "3    4      2012-08-26\n",
      "5    6      2013-12-23\n",
      "7    8      2014-04-24\n",
      "8    9      2015-04-24\n",
      "9   10      2016-05-08\n",
      "   TID TransactionDate\n",
      "0    1      2010-08-21\n",
      "1    2      2011-05-26\n",
      "2    3      2011-06-16\n",
      "3    4      2012-08-26\n",
      "4    5      2013-06-06\n",
      "5    6      2013-12-23\n",
      "6    7      2013-12-30\n",
      "7    8      2014-04-24\n",
      "8    9      2015-04-24\n",
      "9   10      2016-05-08\n",
      "   TID TransactionDate    UserID\n",
      "0    1      2010-08-21  7.000000\n",
      "1    2      2011-05-26  3.000000\n",
      "2    3      2011-06-16  3.000000\n",
      "3    4      2012-08-26  1.000000\n",
      "4    5      2013-06-06  2.000000\n",
      "5    6      2013-12-23  2.000000\n",
      "6    7      2013-12-30  3.000000\n",
      "7    8      2014-04-24  3.444444\n",
      "8    9      2015-04-24  7.000000\n",
      "9   10      2016-05-08  3.000000\n"
     ]
    }
   ],
   "source": [
    "subset_rows = df.iloc[[0,2,6]]\n",
    "print(subset_rows)\n",
    "\n",
    "print(df)\n",
    "foo = [True,False,True,True,False,False,True,False,True,False]\n",
    "subset = df[foo]\n",
    "print(subset)\n",
    "\n",
    "subset = df[df['Quantity']>1][['TID','TransactionDate']]\n",
    "print(subset)\n",
    "\n",
    "columns_to_select = ['TID','TransactionDate']\n",
    "subset_columns = df[columns_to_select]\n",
    "print(subset_columns)\n",
    "\n",
    "columns_to_exclude = ['Quantity', 'ProductID']\n",
    "subset_columns_excluded = df[[col for col in df.columns if col not\n",
    "in columns_to_exclude]]\n",
    "print(subset_columns_excluded)"
   ]
  },
  {
   "cell_type": "code",
   "execution_count": 157,
   "id": "20d696b9-6773-43b1-8811-ec4bdde3d03a",
   "metadata": {},
   "outputs": [
    {
     "name": "stdout",
     "output_type": "stream",
     "text": [
      "TID                         int64\n",
      "TransactionDate    datetime64[ns]\n",
      "UserID                    float64\n",
      "ProductID                   int64\n",
      "Quantity                    int64\n",
      "year                        int32\n",
      "month                       int32\n",
      "day                         int32\n",
      "dtype: object\n",
      "TID                         int64\n",
      "TransactionDate    datetime64[ns]\n",
      "UserID                    float64\n",
      "ProductID                   int64\n",
      "Quantity                    int64\n",
      "year                        int32\n",
      "month                       int32\n",
      "day                         int32\n",
      "dtype: object\n",
      "   TID TransactionDate    UserID  ProductID  Quantity  month  day\n",
      "0    1      2010-08-21  7.000000          2         1      8   21\n",
      "1    2      2011-05-26  3.000000          4         1      5   26\n",
      "2    3      2011-06-16  3.000000          3         1      6   16\n",
      "3    4      2012-08-26  1.000000          2         3      8   26\n",
      "4    5      2013-06-06  2.000000          4         1      6    6\n",
      "5    6      2013-12-23  2.000000          5         6     12   23\n",
      "6    7      2013-12-30  3.000000          4         1     12   30\n",
      "7    8      2014-04-24  3.444444          2         3      4   24\n",
      "8    9      2015-04-24  7.000000          4         3      4   24\n",
      "9   10      2016-05-08  3.000000          4         4      5    8\n"
     ]
    }
   ],
   "source": [
    "print(df.dtypes)\n",
    "df['TransactionDate']=pd.to_datetime(df['TransactionDate'])\n",
    "print(df.dtypes)\n",
    "df['year']=pd.to_datetime(df['TransactionDate']).dt.year\n",
    "df['month']=pd.to_datetime(df['TransactionDate']).dt.month\n",
    "df['day']=pd.to_datetime(df['TransactionDate']).dt.day\n",
    "df.drop(columns=['year'],inplace=True)\n",
    "print(df)"
   ]
  },
  {
   "cell_type": "code",
   "execution_count": 159,
   "id": "831608d8-fd6e-4396-a5c3-e1acb811c4b6",
   "metadata": {},
   "outputs": [
    {
     "name": "stdout",
     "output_type": "stream",
     "text": [
      "   TID TransactionDate  UserID  ProductID  Quantity  month  day  foo\n",
      "0    1      2010-08-21     7.0          2         1      8   21  9.0\n",
      "1    2      2011-05-26     3.0          4         1      5   26  7.0\n",
      "2    3      2011-06-16     3.0          3         1      6   16  6.0\n",
      "3    4      2012-08-26     1.0          2         3      8   26  3.0\n",
      "4    5      2013-06-06     2.0          4         1      6    6  6.0\n"
     ]
    }
   ],
   "source": [
    "df['foo'] = df['UserID']+df['ProductID']\n",
    "print(df.head())"
   ]
  },
  {
   "cell_type": "code",
   "execution_count": 2,
   "id": "83d42bad-8602-42e3-b70d-b91b48b5fe9b",
   "metadata": {},
   "outputs": [
    {
     "ename": "NameError",
     "evalue": "name 'df' is not defined",
     "output_type": "error",
     "traceback": [
      "\u001b[0;31m---------------------------------------------------------------------------\u001b[0m",
      "\u001b[0;31mNameError\u001b[0m                                 Traceback (most recent call last)",
      "Cell \u001b[0;32mIn[2], line 34\u001b[0m\n\u001b[1;32m      1\u001b[0m \u001b[38;5;66;03m#Exercise questions\u001b[39;00m\n\u001b[1;32m      2\u001b[0m \n\u001b[1;32m      3\u001b[0m \u001b[38;5;66;03m#1. Print Summary of transaction data set\u001b[39;00m\n\u001b[0;32m   (...)\u001b[0m\n\u001b[1;32m     32\u001b[0m \u001b[38;5;66;03m#10. Order the rows of transactions by Quantity ascending, TransactionDate descending\u001b[39;00m\n\u001b[1;32m     33\u001b[0m \u001b[38;5;66;03m#print(df.sort_values(by = ['Quantity','TransactionDate'],ascending=[True,False]))\u001b[39;00m\n\u001b[0;32m---> 34\u001b[0m df \u001b[38;5;241m=\u001b[39m df[[\u001b[38;5;124m'\u001b[39m\u001b[38;5;124mProductID\u001b[39m\u001b[38;5;124m'\u001b[39m, \u001b[38;5;124m'\u001b[39m\u001b[38;5;124mQuantity\u001b[39m\u001b[38;5;124m'\u001b[39m, \u001b[38;5;124m'\u001b[39m\u001b[38;5;124mTransactionDate\u001b[39m\u001b[38;5;124m'\u001b[39m, \u001b[38;5;124m'\u001b[39m\u001b[38;5;124mTransactionID\u001b[39m\u001b[38;5;124m'\u001b[39m, \u001b[38;5;124m'\u001b[39m\u001b[38;5;124mUserID\u001b[39m\u001b[38;5;124m'\u001b[39m]]\n\u001b[1;32m     35\u001b[0m \u001b[38;5;28mprint\u001b[39m(df)\n",
      "\u001b[0;31mNameError\u001b[0m: name 'df' is not defined"
     ]
    }
   ],
   "source": [
    "#Exercise questions\n",
    "\n",
    "#1. Print Summary of transaction data set\n",
    "#print(df.describe())\n",
    "\n",
    "#2. Print Numbers of Attributes\n",
    "#print(len(df.columns))\n",
    "\n",
    "#3. Print Numbers of Records\n",
    "#print(len(df))\n",
    "\n",
    "#4. Get the row names\n",
    "#print(df.index.tolist())\n",
    "\n",
    "#5. Get the column names\n",
    "#print([col for col in df.columns])\n",
    "\n",
    "#6. View top 10 Records\n",
    "#print(df.head(10))\n",
    "\n",
    "#7.Change the name of column “ Quantity” to “Quant”\n",
    "#df.rename(columns={'Quantity':'Quant'})\n",
    "#print(df)\n",
    "\n",
    "#8.Change the name of columns ProductID and UserID to PID and UID respectively\n",
    "#df.rename(columns={'ProductID':'PID' , 'UserID':'UID'})\n",
    "#print(df)\n",
    "\n",
    "#9. Order the rows of transactions by TransactionId descending, if ascending then ascending=True\n",
    "#print(df.sort_values(by = ['TID'],ascending=[False]))\n",
    "\n",
    "#10. Order the rows of transactions by Quantity ascending, TransactionDate descending\n",
    "#print(df.sort_values(by = ['Quantity','TransactionDate'],ascending=[True,False]))\n",
    "df = df[['ProductID', 'Quantity', 'TransactionDate', 'TransactionID', 'UserID']]\n",
    "print(df)"
   ]
  },
  {
   "cell_type": "code",
   "execution_count": null,
   "id": "c9d49d35-e2c6-4a4c-90d3-828d40889ac2",
   "metadata": {},
   "outputs": [],
   "source": []
  }
 ],
 "metadata": {
  "kernelspec": {
   "display_name": "Python 3 (ipykernel)",
   "language": "python",
   "name": "python3"
  },
  "language_info": {
   "codemirror_mode": {
    "name": "ipython",
    "version": 3
   },
   "file_extension": ".py",
   "mimetype": "text/x-python",
   "name": "python",
   "nbconvert_exporter": "python",
   "pygments_lexer": "ipython3",
   "version": "3.11.7"
  }
 },
 "nbformat": 4,
 "nbformat_minor": 5
}
