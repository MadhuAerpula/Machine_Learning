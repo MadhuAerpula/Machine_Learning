{
 "cells": [
  {
   "cell_type": "code",
   "execution_count": 1,
   "id": "04991409-6a6b-4a4f-bc3f-0f51184ff1f1",
   "metadata": {},
   "outputs": [
    {
     "name": "stdout",
     "output_type": "stream",
     "text": [
      "Channels:\n",
      " - defaults\n",
      "Platform: linux-64\n",
      "Collecting package metadata (repodata.json): done\n",
      "Solving environment: done\n",
      "\n",
      "## Package Plan ##\n",
      "\n",
      "  environment location: /home/madhu/anaconda3\n",
      "\n",
      "  added / updated specs:\n",
      "    - seaborn\n",
      "\n",
      "\n",
      "The following packages will be downloaded:\n",
      "\n",
      "    package                    |            build\n",
      "    ---------------------------|-----------------\n",
      "    seaborn-0.13.2             |  py311h06a4308_1         730 KB\n",
      "    ------------------------------------------------------------\n",
      "                                           Total:         730 KB\n",
      "\n",
      "The following packages will be UPDATED:\n",
      "\n",
      "  seaborn                            0.12.2-py311h06a4308_0 --> 0.13.2-py311h06a4308_1 \n",
      "\n",
      "\n",
      "\n",
      "Downloading and Extracting Packages:\n",
      "                                                                                \n",
      "Preparing transaction: done\n",
      "Verifying transaction: done\n",
      "Executing transaction: done\n",
      "\n",
      "Note: you may need to restart the kernel to use updated packages.\n"
     ]
    }
   ],
   "source": [
    "conda install seaborn"
   ]
  },
  {
   "cell_type": "code",
   "execution_count": 1,
   "id": "e8120d5c-c0d3-4f3e-a197-27c1de61926f",
   "metadata": {},
   "outputs": [
    {
     "name": "stdout",
     "output_type": "stream",
     "text": [
      "    Manufacturer              Model  Sales in thousands  4-year resale value  \\\n",
      "0  Acura          Integra                        16.919               16.360   \n",
      "1  Acura          TL                             39.384               19.875   \n",
      "2  Acura          CL                             14.114               18.225   \n",
      "3  Acura          RL                              8.588               29.725   \n",
      "4  Audi           A4                             20.397               22.255   \n",
      "\n",
      "  Vehicle type  Price in thousands  Engine size  Horsepower  Wheelbase  Width  \\\n",
      "0    Passenger               21.50          1.8       140.0      101.2   67.3   \n",
      "1    Passenger               28.40          3.2       225.0      108.1   70.3   \n",
      "2    Passenger                 NaN          3.2       225.0      106.9   70.6   \n",
      "3    Passenger               42.00          3.5       210.0      114.6   71.4   \n",
      "4    Passenger               23.99          1.8       150.0      102.6   68.2   \n",
      "\n",
      "   Length  Curb weight  Fuel capacity  Fuel efficiency Latest Launch  \n",
      "0   172.4        2.639           13.2             28.0      2-Feb-14  \n",
      "1   192.9        3.517           17.2             25.0      6-Mar-15  \n",
      "2   192.0        3.470           17.2             26.0      1-Apr-14  \n",
      "3   196.6        3.850           18.0             22.0      3-Oct-15  \n",
      "4   178.0        2.998           16.4             27.0     10-Aug-15  \n"
     ]
    }
   ],
   "source": [
    "import pandas as pd\n",
    "df = pd.read_csv(\"car_sales.csv\")\n",
    "print(df.head())"
   ]
  },
  {
   "cell_type": "code",
   "execution_count": 3,
   "id": "247c7840-4537-43de-ac45-d325329c4213",
   "metadata": {},
   "outputs": [
    {
     "name": "stdout",
     "output_type": "stream",
     "text": [
      "Number of attributes: 15\n"
     ]
    }
   ],
   "source": [
    "attributes = df.shape[1]\n",
    "print(\"Number of attributes:\",attributes)"
   ]
  },
  {
   "cell_type": "code",
   "execution_count": 5,
   "id": "9dbd8caa-99aa-4325-a153-f585e03da684",
   "metadata": {},
   "outputs": [
    {
     "name": "stdout",
     "output_type": "stream",
     "text": [
      "DataFrame Info:\n",
      "<class 'pandas.core.frame.DataFrame'>\n",
      "RangeIndex: 157 entries, 0 to 156\n",
      "Data columns (total 15 columns):\n",
      " #   Column               Non-Null Count  Dtype  \n",
      "---  ------               --------------  -----  \n",
      " 0   Manufacturer         157 non-null    object \n",
      " 1   Model                157 non-null    object \n",
      " 2   Sales in thousands   157 non-null    float64\n",
      " 3   4-year resale value  121 non-null    float64\n",
      " 4   Vehicle type         157 non-null    object \n",
      " 5   Price in thousands   155 non-null    float64\n",
      " 6   Engine size          156 non-null    float64\n",
      " 7   Horsepower           156 non-null    float64\n",
      " 8   Wheelbase            156 non-null    float64\n",
      " 9   Width                156 non-null    float64\n",
      " 10  Length               156 non-null    float64\n",
      " 11  Curb weight          155 non-null    float64\n",
      " 12  Fuel capacity        156 non-null    float64\n",
      " 13  Fuel efficiency      154 non-null    float64\n",
      " 14  Latest Launch        157 non-null    object \n",
      "dtypes: float64(11), object(4)\n",
      "memory usage: 18.5+ KB\n",
      "None\n"
     ]
    }
   ],
   "source": [
    "print(\"DataFrame Info:\")\n",
    "print(df.info())"
   ]
  },
  {
   "cell_type": "code",
   "execution_count": 7,
   "id": "cb82625f-213c-4129-88e6-7206f8d8dc40",
   "metadata": {},
   "outputs": [
    {
     "name": "stdout",
     "output_type": "stream",
     "text": [
      "Number of rows: 157\n",
      "Number of columns: 15\n"
     ]
    }
   ],
   "source": [
    "num_rows,num_colms = df.shape\n",
    "print(\"Number of rows:\",num_rows)\n",
    "print(\"Number of columns:\",num_colms)"
   ]
  },
  {
   "cell_type": "code",
   "execution_count": 9,
   "id": "5becd883-9f5b-4b21-b3d4-f1680bc8eb71",
   "metadata": {},
   "outputs": [
    {
     "name": "stdout",
     "output_type": "stream",
     "text": [
      "Number of rows before dropping: 157\n",
      "Number of rows after dropping: 157\n"
     ]
    }
   ],
   "source": [
    "clean = df.drop_duplicates()\n",
    "print(\"Number of rows before dropping:\", df.shape[0])\n",
    "print(\"Number of rows after dropping:\", clean.shape[0])"
   ]
  },
  {
   "cell_type": "code",
   "execution_count": 11,
   "id": "31cabb28-2b23-4ee7-949e-e1d0abe8b974",
   "metadata": {},
   "outputs": [
    {
     "name": "stdout",
     "output_type": "stream",
     "text": [
      "Summary of data:        Sales in thousands  4-year resale value  Price in thousands  \\\n",
      "count          157.000000           121.000000          155.000000   \n",
      "mean            52.998076            18.072975           27.390755   \n",
      "std             68.029422            11.453384           14.351653   \n",
      "min              0.110000             5.160000            9.235000   \n",
      "25%             14.114000            11.260000           18.017500   \n",
      "50%             29.450000            14.180000           22.799000   \n",
      "75%             67.956000            19.875000           31.947500   \n",
      "max            540.561000            67.550000           85.500000   \n",
      "\n",
      "       Engine size  Horsepower   Wheelbase       Width      Length  \\\n",
      "count   156.000000  156.000000  156.000000  156.000000  156.000000   \n",
      "mean      3.060897  185.948718  107.487179   71.150000  187.343590   \n",
      "std       1.044653   56.700321    7.641303    3.451872   13.431754   \n",
      "min       1.000000   55.000000   92.600000   62.600000  149.400000   \n",
      "25%       2.300000  149.500000  103.000000   68.400000  177.575000   \n",
      "50%       3.000000  177.500000  107.000000   70.550000  187.900000   \n",
      "75%       3.575000  215.000000  112.200000   73.425000  196.125000   \n",
      "max       8.000000  450.000000  138.700000   79.900000  224.500000   \n",
      "\n",
      "       Curb weight  Fuel capacity  Fuel efficiency  \n",
      "count   155.000000     156.000000       154.000000  \n",
      "mean      3.378026      17.951923        23.844156  \n",
      "std       0.630502       3.887921         4.282706  \n",
      "min       1.895000      10.300000        15.000000  \n",
      "25%       2.971000      15.800000        21.000000  \n",
      "50%       3.342000      17.200000        24.000000  \n",
      "75%       3.799500      19.575000        26.000000  \n",
      "max       5.572000      32.000000        45.000000  \n"
     ]
    }
   ],
   "source": [
    "print(\"Summary of data:\",df.describe())"
   ]
  },
  {
   "cell_type": "code",
   "execution_count": 13,
   "id": "8f47cdc6-1701-49a0-bdb3-4e7b07ae6bae",
   "metadata": {},
   "outputs": [
    {
     "name": "stdout",
     "output_type": "stream",
     "text": [
      "Number of missing values in each column: Manufacturer            0\n",
      "Model                   0\n",
      "Sales in thousands      0\n",
      "4-year resale value    36\n",
      "Vehicle type            0\n",
      "Price in thousands      2\n",
      "Engine size             1\n",
      "Horsepower              1\n",
      "Wheelbase               1\n",
      "Width                   1\n",
      "Length                  1\n",
      "Curb weight             2\n",
      "Fuel capacity           1\n",
      "Fuel efficiency         3\n",
      "Latest Launch           0\n",
      "dtype: int64\n"
     ]
    }
   ],
   "source": [
    "print(\"Number of missing values in each column:\",df.isnull().sum())"
   ]
  },
  {
   "cell_type": "code",
   "execution_count": 23,
   "id": "14b50d84-a409-4c7e-b5b8-25461606afd1",
   "metadata": {},
   "outputs": [
    {
     "name": "stdout",
     "output_type": "stream",
     "text": [
      "Most missing values from the column: 4-year resale value\n"
     ]
    }
   ],
   "source": [
    "print(\"Most missing values from the column:\",df.isnull().sum().idxmax())"
   ]
  },
  {
   "cell_type": "code",
   "execution_count": 25,
   "id": "0367bab0-6b6d-4c67-bf96-05cac781c370",
   "metadata": {},
   "outputs": [
    {
     "name": "stdout",
     "output_type": "stream",
     "text": [
      "Manufacturer            0\n",
      "Model                   0\n",
      "Sales in thousands      0\n",
      "4-year resale value    36\n",
      "Vehicle type            0\n",
      "Price in thousands      2\n",
      "Engine size             1\n",
      "Horsepower              1\n",
      "Wheelbase               1\n",
      "Width                   1\n",
      "Length                  1\n",
      "Curb weight             2\n",
      "Fuel capacity           1\n",
      "Fuel efficiency         3\n",
      "Latest Launch           0\n",
      "dtype: int64\n"
     ]
    }
   ],
   "source": [
    "print(df.isnull().sum())"
   ]
  },
  {
   "cell_type": "code",
   "execution_count": null,
   "id": "e72d2c39-d535-4ded-bd83-895acfca4577",
   "metadata": {},
   "outputs": [],
   "source": []
  },
  {
   "cell_type": "code",
   "execution_count": null,
   "id": "1124791c-4811-4cb6-9ddb-722cc5e25908",
   "metadata": {},
   "outputs": [],
   "source": []
  },
  {
   "cell_type": "code",
   "execution_count": null,
   "id": "5d62de1d-db9e-42a0-b81a-5fa28629c488",
   "metadata": {},
   "outputs": [],
   "source": []
  },
  {
   "cell_type": "code",
   "execution_count": 37,
   "id": "bf9f7dfb-a944-455a-ba4a-4fa68ecc4eaa",
   "metadata": {},
   "outputs": [
    {
     "ename": "KeyError",
     "evalue": "'null'",
     "output_type": "error",
     "traceback": [
      "\u001b[0;31m---------------------------------------------------------------------------\u001b[0m",
      "\u001b[0;31mKeyError\u001b[0m                                  Traceback (most recent call last)",
      "File \u001b[0;32m~/anaconda3/lib/python3.11/site-packages/pandas/core/indexes/base.py:3791\u001b[0m, in \u001b[0;36mIndex.get_loc\u001b[0;34m(self, key)\u001b[0m\n\u001b[1;32m   3790\u001b[0m \u001b[38;5;28;01mtry\u001b[39;00m:\n\u001b[0;32m-> 3791\u001b[0m     \u001b[38;5;28;01mreturn\u001b[39;00m \u001b[38;5;28mself\u001b[39m\u001b[38;5;241m.\u001b[39m_engine\u001b[38;5;241m.\u001b[39mget_loc(casted_key)\n\u001b[1;32m   3792\u001b[0m \u001b[38;5;28;01mexcept\u001b[39;00m \u001b[38;5;167;01mKeyError\u001b[39;00m \u001b[38;5;28;01mas\u001b[39;00m err:\n",
      "File \u001b[0;32mindex.pyx:152\u001b[0m, in \u001b[0;36mpandas._libs.index.IndexEngine.get_loc\u001b[0;34m()\u001b[0m\n",
      "File \u001b[0;32mindex.pyx:181\u001b[0m, in \u001b[0;36mpandas._libs.index.IndexEngine.get_loc\u001b[0;34m()\u001b[0m\n",
      "File \u001b[0;32mpandas/_libs/hashtable_class_helper.pxi:7080\u001b[0m, in \u001b[0;36mpandas._libs.hashtable.PyObjectHashTable.get_item\u001b[0;34m()\u001b[0m\n",
      "File \u001b[0;32mpandas/_libs/hashtable_class_helper.pxi:7088\u001b[0m, in \u001b[0;36mpandas._libs.hashtable.PyObjectHashTable.get_item\u001b[0;34m()\u001b[0m\n",
      "\u001b[0;31mKeyError\u001b[0m: 'null'",
      "\nThe above exception was the direct cause of the following exception:\n",
      "\u001b[0;31mKeyError\u001b[0m                                  Traceback (most recent call last)",
      "Cell \u001b[0;32mIn[37], line 1\u001b[0m\n\u001b[0;32m----> 1\u001b[0m df[\u001b[38;5;124m\"\u001b[39m\u001b[38;5;124mnull\u001b[39m\u001b[38;5;124m\"\u001b[39m]\u001b[38;5;241m.\u001b[39mfillna(df[\u001b[38;5;124m\"\u001b[39m\u001b[38;5;124mnull\u001b[39m\u001b[38;5;124m\"\u001b[39m]\u001b[38;5;241m.\u001b[39mmean(),inplace\u001b[38;5;241m=\u001b[39m\u001b[38;5;28;01mTrue\u001b[39;00m)\n",
      "File \u001b[0;32m~/anaconda3/lib/python3.11/site-packages/pandas/core/frame.py:3893\u001b[0m, in \u001b[0;36mDataFrame.__getitem__\u001b[0;34m(self, key)\u001b[0m\n\u001b[1;32m   3891\u001b[0m \u001b[38;5;28;01mif\u001b[39;00m \u001b[38;5;28mself\u001b[39m\u001b[38;5;241m.\u001b[39mcolumns\u001b[38;5;241m.\u001b[39mnlevels \u001b[38;5;241m>\u001b[39m \u001b[38;5;241m1\u001b[39m:\n\u001b[1;32m   3892\u001b[0m     \u001b[38;5;28;01mreturn\u001b[39;00m \u001b[38;5;28mself\u001b[39m\u001b[38;5;241m.\u001b[39m_getitem_multilevel(key)\n\u001b[0;32m-> 3893\u001b[0m indexer \u001b[38;5;241m=\u001b[39m \u001b[38;5;28mself\u001b[39m\u001b[38;5;241m.\u001b[39mcolumns\u001b[38;5;241m.\u001b[39mget_loc(key)\n\u001b[1;32m   3894\u001b[0m \u001b[38;5;28;01mif\u001b[39;00m is_integer(indexer):\n\u001b[1;32m   3895\u001b[0m     indexer \u001b[38;5;241m=\u001b[39m [indexer]\n",
      "File \u001b[0;32m~/anaconda3/lib/python3.11/site-packages/pandas/core/indexes/base.py:3798\u001b[0m, in \u001b[0;36mIndex.get_loc\u001b[0;34m(self, key)\u001b[0m\n\u001b[1;32m   3793\u001b[0m     \u001b[38;5;28;01mif\u001b[39;00m \u001b[38;5;28misinstance\u001b[39m(casted_key, \u001b[38;5;28mslice\u001b[39m) \u001b[38;5;129;01mor\u001b[39;00m (\n\u001b[1;32m   3794\u001b[0m         \u001b[38;5;28misinstance\u001b[39m(casted_key, abc\u001b[38;5;241m.\u001b[39mIterable)\n\u001b[1;32m   3795\u001b[0m         \u001b[38;5;129;01mand\u001b[39;00m \u001b[38;5;28many\u001b[39m(\u001b[38;5;28misinstance\u001b[39m(x, \u001b[38;5;28mslice\u001b[39m) \u001b[38;5;28;01mfor\u001b[39;00m x \u001b[38;5;129;01min\u001b[39;00m casted_key)\n\u001b[1;32m   3796\u001b[0m     ):\n\u001b[1;32m   3797\u001b[0m         \u001b[38;5;28;01mraise\u001b[39;00m InvalidIndexError(key)\n\u001b[0;32m-> 3798\u001b[0m     \u001b[38;5;28;01mraise\u001b[39;00m \u001b[38;5;167;01mKeyError\u001b[39;00m(key) \u001b[38;5;28;01mfrom\u001b[39;00m \u001b[38;5;21;01merr\u001b[39;00m\n\u001b[1;32m   3799\u001b[0m \u001b[38;5;28;01mexcept\u001b[39;00m \u001b[38;5;167;01mTypeError\u001b[39;00m:\n\u001b[1;32m   3800\u001b[0m     \u001b[38;5;66;03m# If we have a listlike key, _check_indexing_error will raise\u001b[39;00m\n\u001b[1;32m   3801\u001b[0m     \u001b[38;5;66;03m#  InvalidIndexError. Otherwise we fall through and re-raise\u001b[39;00m\n\u001b[1;32m   3802\u001b[0m     \u001b[38;5;66;03m#  the TypeError.\u001b[39;00m\n\u001b[1;32m   3803\u001b[0m     \u001b[38;5;28mself\u001b[39m\u001b[38;5;241m.\u001b[39m_check_indexing_error(key)\n",
      "\u001b[0;31mKeyError\u001b[0m: 'null'"
     ]
    }
   ],
   "source": [
    "df[\"null\"].fillna(df[\"null\"].mean(),inplace=True)"
   ]
  },
  {
   "cell_type": "code",
   "execution_count": null,
   "id": "080dada9-0801-41b2-94a0-d18fdfa0ae76",
   "metadata": {},
   "outputs": [],
   "source": []
  }
 ],
 "metadata": {
  "kernelspec": {
   "display_name": "Python 3 (ipykernel)",
   "language": "python",
   "name": "python3"
  },
  "language_info": {
   "codemirror_mode": {
    "name": "ipython",
    "version": 3
   },
   "file_extension": ".py",
   "mimetype": "text/x-python",
   "name": "python",
   "nbconvert_exporter": "python",
   "pygments_lexer": "ipython3",
   "version": "3.11.7"
  }
 },
 "nbformat": 4,
 "nbformat_minor": 5
}
