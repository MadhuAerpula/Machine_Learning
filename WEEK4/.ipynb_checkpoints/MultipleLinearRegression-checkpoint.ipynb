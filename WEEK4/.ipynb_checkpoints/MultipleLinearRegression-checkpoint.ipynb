{
 "cells": [
  {
   "cell_type": "markdown",
   "id": "b70a432c-3c27-428d-b2bd-e0a2464eb612",
   "metadata": {},
   "source": [
    "## Housing Case Study\n",
    "Problem Statement:\n",
    "\n",
    "Consider a real estate company that has a dataset containing the prices of properties in the Delhi region. It wishes to use the data to optimise the sale prices of the properties based on important factors such as area, bedrooms, parking, etc.\n",
    "\n",
    "Essentially, the company wants —\n",
    "\n",
    "To identify the variables affecting house prices, e.g. area, number of rooms, bathrooms, etc.\n",
    "\n",
    "To create a linear model that quantitatively relates house prices with variables such as number of rooms, area, number of bathrooms, etc.\n",
    "\n",
    "To know the accuracy of the model, i.e. how well these variables can predict house prices."
   ]
  },
  {
   "cell_type": "code",
   "execution_count": null,
   "id": "e13c132d-b22a-4ada-b425-ace2d957fb5b",
   "metadata": {},
   "outputs": [
    {
     "ename": "",
     "evalue": "",
     "output_type": "error",
     "traceback": [
      "\u001b[1;31mRunning cells with 'Python 3.12.3' requires the ipykernel package.\n",
      "\u001b[1;31mRun the following command to install 'ipykernel' into the Python environment. \n",
      "\u001b[1;31mCommand: '/bin/python3 -m pip install ipykernel -U --user --force-reinstall'"
     ]
    }
   ],
   "source": [
    "#1 Import the dataset (Housing.csv) and look at the top five rows\n",
    "import pandas as pd\n",
    "df = pd.read_csv('Housing.csv')\n",
    "df"
   ]
  },
  {
   "cell_type": "code",
   "execution_count": null,
   "id": "0b429f32-4c68-43ad-8fd1-2fe90503fd88",
   "metadata": {},
   "outputs": [],
   "source": [
    "#2 Check the shape of the DataFrame (rows, columns)"
   ]
  },
  {
   "cell_type": "code",
   "execution_count": null,
   "id": "661fff1a-6c1f-4876-9a5b-c886c0aad902",
   "metadata": {},
   "outputs": [],
   "source": [
    "#3 Look at the data types of the columns"
   ]
  },
  {
   "cell_type": "code",
   "execution_count": null,
   "id": "cb86b308-69c4-4aec-a9fd-6d74857468ec",
   "metadata": {},
   "outputs": [],
   "source": [
    "#4 Check for missing  values if any, replace with appropriate values"
   ]
  },
  {
   "cell_type": "code",
   "execution_count": null,
   "id": "e03d9624-c3db-4ae4-a7af-bf570b956c19",
   "metadata": {},
   "outputs": [],
   "source": [
    "#5 Prepare  X (independent variables) and y (dependent variable)"
   ]
  },
  {
   "cell_type": "code",
   "execution_count": null,
   "id": "41009947-bf5b-4e15-beb0-5cfc761d8b7d",
   "metadata": {},
   "outputs": [],
   "source": [
    "#6 Visualise the relationship between the independent variables and the depenedent variable using scatterplots"
   ]
  },
  {
   "cell_type": "code",
   "execution_count": null,
   "id": "19f90195-0633-4388-9e6e-9e82ffffd6a1",
   "metadata": {},
   "outputs": [],
   "source": [
    "#7 Encoding categorical data in X"
   ]
  },
  {
   "cell_type": "code",
   "execution_count": null,
   "id": "8b91fa2d-0728-422e-91bf-81c6375b65a4",
   "metadata": {},
   "outputs": [],
   "source": [
    "#8  Avoiding the Dummy Variable Trap"
   ]
  },
  {
   "cell_type": "code",
   "execution_count": null,
   "id": "488d83f7-f328-4710-b8be-d60605f18f41",
   "metadata": {},
   "outputs": [],
   "source": [
    "#9 Apply feature scaling on numerical variables"
   ]
  },
  {
   "cell_type": "code",
   "execution_count": null,
   "id": "1acf2436-7668-4eb9-9b9f-48d4a2976020",
   "metadata": {},
   "outputs": [],
   "source": [
    "#10 Split Data into Training and Testing Sets (70%-Train 30%-Test) - X_train, y_train, X_test, y_test"
   ]
  },
  {
   "cell_type": "code",
   "execution_count": null,
   "id": "d011419c-d0e5-4186-8e0d-b5f1d42d3dbd",
   "metadata": {},
   "outputs": [],
   "source": [
    "#11 Fitting Multiple Linear Regression to the Training"
   ]
  },
  {
   "cell_type": "code",
   "execution_count": null,
   "id": "2c57f32b-58dc-4a80-839b-b3cfa29ac3c4",
   "metadata": {},
   "outputs": [],
   "source": [
    "#12 Predict on the train set and calculate the error = y_pred - y_train"
   ]
  },
  {
   "cell_type": "code",
   "execution_count": null,
   "id": "af715af0-0022-4851-b3b0-ffd7898ef2ae",
   "metadata": {},
   "outputs": [],
   "source": [
    "#13  Residual plot - plot y_pred in x axis and errors in y axis"
   ]
  },
  {
   "cell_type": "code",
   "execution_count": null,
   "id": "588a7ea5-6745-4930-9d37-8cb25ec48ddb",
   "metadata": {},
   "outputs": [],
   "source": [
    "#14  Predic on the test set"
   ]
  },
  {
   "cell_type": "code",
   "execution_count": null,
   "id": "0e896fc1-af23-4842-b710-223d0982666e",
   "metadata": {},
   "outputs": [],
   "source": [
    "#15 Residual plot - plot y_pred in x axis and errors in y axis"
   ]
  },
  {
   "cell_type": "code",
   "execution_count": null,
   "id": "aabaab50-706c-413f-ab29-47ede66917b1",
   "metadata": {},
   "outputs": [],
   "source": [
    "#16 Print Mean Squared Error and R Squared Value"
   ]
  },
  {
   "cell_type": "code",
   "execution_count": null,
   "id": "89e98b63-04b7-4a82-b324-6108cf4cd79a",
   "metadata": {},
   "outputs": [],
   "source": [
    "#17 Check  Adjusted R Squared Value(by selecting different no of input variables insted of all)"
   ]
  }
 ],
 "metadata": {
  "kernelspec": {
   "display_name": "Python 3",
   "language": "python",
   "name": "python3"
  },
  "language_info": {
   "codemirror_mode": {
    "name": "ipython",
    "version": 3
   },
   "file_extension": ".py",
   "mimetype": "text/x-python",
   "name": "python",
   "nbconvert_exporter": "python",
   "pygments_lexer": "ipython3",
   "version": "3.12.3"
  }
 },
 "nbformat": 4,
 "nbformat_minor": 5
}
