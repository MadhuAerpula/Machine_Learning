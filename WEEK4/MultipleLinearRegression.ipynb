{
 "cells": [
  {
   "cell_type": "markdown",
   "id": "b70a432c-3c27-428d-b2bd-e0a2464eb612",
   "metadata": {},
   "source": [
    "## Housing Case Study\n",
    "Problem Statement:\n",
    "\n",
    "Consider a real estate company that has a dataset containing the prices of properties in the Delhi region. It wishes to use the data to optimise the sale prices of the properties based on important factors such as area, bedrooms, parking, etc.\n",
    "\n",
    "Essentially, the company wants —\n",
    "\n",
    "To identify the variables affecting house prices, e.g. area, number of rooms, bathrooms, etc.\n",
    "\n",
    "To create a linear model that quantitatively relates house prices with variables such as number of rooms, area, number of bathrooms, etc.\n",
    "\n",
    "To know the accuracy of the model, i.e. how well these variables can predict house prices."
   ]
  },
  {
   "cell_type": "code",
   "execution_count": 1,
   "id": "e13c132d-b22a-4ada-b425-ace2d957fb5b",
   "metadata": {},
   "outputs": [
    {
     "data": {
      "text/html": [
       "<div>\n",
       "<style scoped>\n",
       "    .dataframe tbody tr th:only-of-type {\n",
       "        vertical-align: middle;\n",
       "    }\n",
       "\n",
       "    .dataframe tbody tr th {\n",
       "        vertical-align: top;\n",
       "    }\n",
       "\n",
       "    .dataframe thead th {\n",
       "        text-align: right;\n",
       "    }\n",
       "</style>\n",
       "<table border=\"1\" class=\"dataframe\">\n",
       "  <thead>\n",
       "    <tr style=\"text-align: right;\">\n",
       "      <th></th>\n",
       "      <th>price</th>\n",
       "      <th>area</th>\n",
       "      <th>bedrooms</th>\n",
       "      <th>bathrooms</th>\n",
       "      <th>stories</th>\n",
       "      <th>mainroad</th>\n",
       "      <th>guestroom</th>\n",
       "      <th>basement</th>\n",
       "      <th>hotwaterheating</th>\n",
       "      <th>airconditioning</th>\n",
       "      <th>parking</th>\n",
       "      <th>prefarea</th>\n",
       "      <th>furnishingstatus</th>\n",
       "    </tr>\n",
       "  </thead>\n",
       "  <tbody>\n",
       "    <tr>\n",
       "      <th>0</th>\n",
       "      <td>13300000</td>\n",
       "      <td>7420</td>\n",
       "      <td>4</td>\n",
       "      <td>2</td>\n",
       "      <td>3</td>\n",
       "      <td>yes</td>\n",
       "      <td>no</td>\n",
       "      <td>no</td>\n",
       "      <td>no</td>\n",
       "      <td>yes</td>\n",
       "      <td>2</td>\n",
       "      <td>yes</td>\n",
       "      <td>furnished</td>\n",
       "    </tr>\n",
       "    <tr>\n",
       "      <th>1</th>\n",
       "      <td>12250000</td>\n",
       "      <td>8960</td>\n",
       "      <td>4</td>\n",
       "      <td>4</td>\n",
       "      <td>4</td>\n",
       "      <td>yes</td>\n",
       "      <td>no</td>\n",
       "      <td>no</td>\n",
       "      <td>no</td>\n",
       "      <td>yes</td>\n",
       "      <td>3</td>\n",
       "      <td>no</td>\n",
       "      <td>furnished</td>\n",
       "    </tr>\n",
       "    <tr>\n",
       "      <th>2</th>\n",
       "      <td>12250000</td>\n",
       "      <td>9960</td>\n",
       "      <td>3</td>\n",
       "      <td>2</td>\n",
       "      <td>2</td>\n",
       "      <td>yes</td>\n",
       "      <td>no</td>\n",
       "      <td>yes</td>\n",
       "      <td>no</td>\n",
       "      <td>no</td>\n",
       "      <td>2</td>\n",
       "      <td>yes</td>\n",
       "      <td>semi-furnished</td>\n",
       "    </tr>\n",
       "    <tr>\n",
       "      <th>3</th>\n",
       "      <td>12215000</td>\n",
       "      <td>7500</td>\n",
       "      <td>4</td>\n",
       "      <td>2</td>\n",
       "      <td>2</td>\n",
       "      <td>yes</td>\n",
       "      <td>no</td>\n",
       "      <td>yes</td>\n",
       "      <td>no</td>\n",
       "      <td>yes</td>\n",
       "      <td>3</td>\n",
       "      <td>yes</td>\n",
       "      <td>furnished</td>\n",
       "    </tr>\n",
       "    <tr>\n",
       "      <th>4</th>\n",
       "      <td>11410000</td>\n",
       "      <td>7420</td>\n",
       "      <td>4</td>\n",
       "      <td>1</td>\n",
       "      <td>2</td>\n",
       "      <td>yes</td>\n",
       "      <td>yes</td>\n",
       "      <td>yes</td>\n",
       "      <td>no</td>\n",
       "      <td>yes</td>\n",
       "      <td>2</td>\n",
       "      <td>no</td>\n",
       "      <td>furnished</td>\n",
       "    </tr>\n",
       "    <tr>\n",
       "      <th>...</th>\n",
       "      <td>...</td>\n",
       "      <td>...</td>\n",
       "      <td>...</td>\n",
       "      <td>...</td>\n",
       "      <td>...</td>\n",
       "      <td>...</td>\n",
       "      <td>...</td>\n",
       "      <td>...</td>\n",
       "      <td>...</td>\n",
       "      <td>...</td>\n",
       "      <td>...</td>\n",
       "      <td>...</td>\n",
       "      <td>...</td>\n",
       "    </tr>\n",
       "    <tr>\n",
       "      <th>540</th>\n",
       "      <td>1820000</td>\n",
       "      <td>3000</td>\n",
       "      <td>2</td>\n",
       "      <td>1</td>\n",
       "      <td>1</td>\n",
       "      <td>yes</td>\n",
       "      <td>no</td>\n",
       "      <td>yes</td>\n",
       "      <td>no</td>\n",
       "      <td>no</td>\n",
       "      <td>2</td>\n",
       "      <td>no</td>\n",
       "      <td>unfurnished</td>\n",
       "    </tr>\n",
       "    <tr>\n",
       "      <th>541</th>\n",
       "      <td>1767150</td>\n",
       "      <td>2400</td>\n",
       "      <td>3</td>\n",
       "      <td>1</td>\n",
       "      <td>1</td>\n",
       "      <td>no</td>\n",
       "      <td>no</td>\n",
       "      <td>no</td>\n",
       "      <td>no</td>\n",
       "      <td>no</td>\n",
       "      <td>0</td>\n",
       "      <td>no</td>\n",
       "      <td>semi-furnished</td>\n",
       "    </tr>\n",
       "    <tr>\n",
       "      <th>542</th>\n",
       "      <td>1750000</td>\n",
       "      <td>3620</td>\n",
       "      <td>2</td>\n",
       "      <td>1</td>\n",
       "      <td>1</td>\n",
       "      <td>yes</td>\n",
       "      <td>no</td>\n",
       "      <td>no</td>\n",
       "      <td>no</td>\n",
       "      <td>no</td>\n",
       "      <td>0</td>\n",
       "      <td>no</td>\n",
       "      <td>unfurnished</td>\n",
       "    </tr>\n",
       "    <tr>\n",
       "      <th>543</th>\n",
       "      <td>1750000</td>\n",
       "      <td>2910</td>\n",
       "      <td>3</td>\n",
       "      <td>1</td>\n",
       "      <td>1</td>\n",
       "      <td>no</td>\n",
       "      <td>no</td>\n",
       "      <td>no</td>\n",
       "      <td>no</td>\n",
       "      <td>no</td>\n",
       "      <td>0</td>\n",
       "      <td>no</td>\n",
       "      <td>furnished</td>\n",
       "    </tr>\n",
       "    <tr>\n",
       "      <th>544</th>\n",
       "      <td>1750000</td>\n",
       "      <td>3850</td>\n",
       "      <td>3</td>\n",
       "      <td>1</td>\n",
       "      <td>2</td>\n",
       "      <td>yes</td>\n",
       "      <td>no</td>\n",
       "      <td>no</td>\n",
       "      <td>no</td>\n",
       "      <td>no</td>\n",
       "      <td>0</td>\n",
       "      <td>no</td>\n",
       "      <td>unfurnished</td>\n",
       "    </tr>\n",
       "  </tbody>\n",
       "</table>\n",
       "<p>545 rows × 13 columns</p>\n",
       "</div>"
      ],
      "text/plain": [
       "        price  area  bedrooms  bathrooms  stories mainroad guestroom basement  \\\n",
       "0    13300000  7420         4          2        3      yes        no       no   \n",
       "1    12250000  8960         4          4        4      yes        no       no   \n",
       "2    12250000  9960         3          2        2      yes        no      yes   \n",
       "3    12215000  7500         4          2        2      yes        no      yes   \n",
       "4    11410000  7420         4          1        2      yes       yes      yes   \n",
       "..        ...   ...       ...        ...      ...      ...       ...      ...   \n",
       "540   1820000  3000         2          1        1      yes        no      yes   \n",
       "541   1767150  2400         3          1        1       no        no       no   \n",
       "542   1750000  3620         2          1        1      yes        no       no   \n",
       "543   1750000  2910         3          1        1       no        no       no   \n",
       "544   1750000  3850         3          1        2      yes        no       no   \n",
       "\n",
       "    hotwaterheating airconditioning  parking prefarea furnishingstatus  \n",
       "0                no             yes        2      yes        furnished  \n",
       "1                no             yes        3       no        furnished  \n",
       "2                no              no        2      yes   semi-furnished  \n",
       "3                no             yes        3      yes        furnished  \n",
       "4                no             yes        2       no        furnished  \n",
       "..              ...             ...      ...      ...              ...  \n",
       "540              no              no        2       no      unfurnished  \n",
       "541              no              no        0       no   semi-furnished  \n",
       "542              no              no        0       no      unfurnished  \n",
       "543              no              no        0       no        furnished  \n",
       "544              no              no        0       no      unfurnished  \n",
       "\n",
       "[545 rows x 13 columns]"
      ]
     },
     "execution_count": 1,
     "metadata": {},
     "output_type": "execute_result"
    }
   ],
   "source": [
    "#1 Import the dataset (Housing.csv) and look at the top five rows\n",
    "import pandas as pd\n",
    "df = pd.read_csv('Housing.csv')\n",
    "df"
   ]
  },
  {
   "cell_type": "code",
   "execution_count": 3,
   "id": "0b429f32-4c68-43ad-8fd1-2fe90503fd88",
   "metadata": {},
   "outputs": [
    {
     "name": "stdout",
     "output_type": "stream",
     "text": [
      "(545, 13)\n"
     ]
    }
   ],
   "source": [
    "#2 Check the shape of the DataFrame (rows, columns)\n",
    "print(df.shape)"
   ]
  },
  {
   "cell_type": "code",
   "execution_count": 5,
   "id": "661fff1a-6c1f-4876-9a5b-c886c0aad902",
   "metadata": {},
   "outputs": [
    {
     "name": "stdout",
     "output_type": "stream",
     "text": [
      "price                int64\n",
      "area                 int64\n",
      "bedrooms             int64\n",
      "bathrooms            int64\n",
      "stories              int64\n",
      "mainroad            object\n",
      "guestroom           object\n",
      "basement            object\n",
      "hotwaterheating     object\n",
      "airconditioning     object\n",
      "parking              int64\n",
      "prefarea            object\n",
      "furnishingstatus    object\n",
      "dtype: object\n"
     ]
    }
   ],
   "source": [
    "#3 Look at the data types of the columns\n",
    "print(df.dtypes)"
   ]
  },
  {
   "cell_type": "code",
   "execution_count": 19,
   "id": "cb86b308-69c4-4aec-a9fd-6d74857468ec",
   "metadata": {},
   "outputs": [
    {
     "data": {
      "text/plain": [
       "price               0\n",
       "area                0\n",
       "bedrooms            0\n",
       "bathrooms           0\n",
       "stories             0\n",
       "mainroad            0\n",
       "guestroom           0\n",
       "basement            0\n",
       "hotwaterheating     0\n",
       "airconditioning     0\n",
       "parking             0\n",
       "prefarea            0\n",
       "furnishingstatus    0\n",
       "dtype: int64"
      ]
     },
     "execution_count": 19,
     "metadata": {},
     "output_type": "execute_result"
    }
   ],
   "source": [
    "#4 Check for missing  values if any, replace with appropriate values\n",
    "df.isnull().sum() # there is 0 missing values in the dataset so we can't replace anything"
   ]
  },
  {
   "cell_type": "code",
   "execution_count": 25,
   "id": "e03d9624-c3db-4ae4-a7af-bf570b956c19",
   "metadata": {},
   "outputs": [
    {
     "name": "stdout",
     "output_type": "stream",
     "text": [
      "Dependent variable 0      13300000\n",
      "1      12250000\n",
      "2      12250000\n",
      "3      12215000\n",
      "4      11410000\n",
      "         ...   \n",
      "540     1820000\n",
      "541     1767150\n",
      "542     1750000\n",
      "543     1750000\n",
      "544     1750000\n",
      "Name: price, Length: 545, dtype: int64\n",
      "Independent variable      area  bedrooms  bathrooms  stories mainroad guestroom basement  \\\n",
      "0    7420         4          2        3      yes        no       no   \n",
      "1    8960         4          4        4      yes        no       no   \n",
      "2    9960         3          2        2      yes        no      yes   \n",
      "3    7500         4          2        2      yes        no      yes   \n",
      "4    7420         4          1        2      yes       yes      yes   \n",
      "..    ...       ...        ...      ...      ...       ...      ...   \n",
      "540  3000         2          1        1      yes        no      yes   \n",
      "541  2400         3          1        1       no        no       no   \n",
      "542  3620         2          1        1      yes        no       no   \n",
      "543  2910         3          1        1       no        no       no   \n",
      "544  3850         3          1        2      yes        no       no   \n",
      "\n",
      "    hotwaterheating airconditioning  parking prefarea furnishingstatus  \n",
      "0                no             yes        2      yes        furnished  \n",
      "1                no             yes        3       no        furnished  \n",
      "2                no              no        2      yes   semi-furnished  \n",
      "3                no             yes        3      yes        furnished  \n",
      "4                no             yes        2       no        furnished  \n",
      "..              ...             ...      ...      ...              ...  \n",
      "540              no              no        2       no      unfurnished  \n",
      "541              no              no        0       no   semi-furnished  \n",
      "542              no              no        0       no      unfurnished  \n",
      "543              no              no        0       no        furnished  \n",
      "544              no              no        0       no      unfurnished  \n",
      "\n",
      "[545 rows x 12 columns]\n"
     ]
    }
   ],
   "source": [
    "#5 Prepare  X (independent variables) and y (dependent variable)\n",
    "y = df['price'] #\n",
    "x = df.drop(columns = ['price'])\n",
    "print(\"Dependent variable\", y)\n",
    "print(\"Independent variable\",x)"
   ]
  },
  {
   "cell_type": "code",
   "execution_count": 39,
   "id": "41009947-bf5b-4e15-beb0-5cfc761d8b7d",
   "metadata": {},
   "outputs": [
    {
     "data": {
      "image/png": "[encoded data removed]",
      "text/plain": [
       "<Figure size 640x480 with 1 Axes>"
      ]
     },
     "metadata": {},
     "output_type": "display_data"
    }
   ],
   "source": [
    "#6 Visualise the relationship between the independent variables and the depenedent variable using scatterplots\n",
    "import seaborn as sns\n",
    "import matplotlib.pyplot as plt\n",
    "sns.scatterplot(x = df['area'],y = df['price'])\n",
    "plt.show()"
   ]
  },
  {
   "cell_type": "code",
   "execution_count": null,
   "id": "19f90195-0633-4388-9e6e-9e82ffffd6a1",
   "metadata": {},
   "outputs": [],
   "source": [
    "#7 Encoding categorical data in X"
   ]
  },
  {
   "cell_type": "code",
   "execution_count": 43,
   "id": "8b91fa2d-0728-422e-91bf-81c6375b65a4",
   "metadata": {},
   "outputs": [
    {
     "name": "stdout",
     "output_type": "stream",
     "text": [
      "        price  bedrooms  bathrooms  stories mainroad guestroom basement  \\\n",
      "0    13300000         4          2        3      yes        no       no   \n",
      "1    12250000         4          4        4      yes        no       no   \n",
      "2    12250000         3          2        2      yes        no      yes   \n",
      "3    12215000         4          2        2      yes        no      yes   \n",
      "4    11410000         4          1        2      yes       yes      yes   \n",
      "..        ...       ...        ...      ...      ...       ...      ...   \n",
      "540   1820000         2          1        1      yes        no      yes   \n",
      "541   1767150         3          1        1       no        no       no   \n",
      "542   1750000         2          1        1      yes        no       no   \n",
      "543   1750000         3          1        1       no        no       no   \n",
      "544   1750000         3          1        2      yes        no       no   \n",
      "\n",
      "    hotwaterheating airconditioning  parking  ... area_11175 area_11410  \\\n",
      "0                no             yes        2  ...      False      False   \n",
      "1                no             yes        3  ...      False      False   \n",
      "2                no              no        2  ...      False      False   \n",
      "3                no             yes        3  ...      False      False   \n",
      "4                no             yes        2  ...      False      False   \n",
      "..              ...             ...      ...  ...        ...        ...   \n",
      "540              no              no        2  ...      False      False   \n",
      "541              no              no        0  ...      False      False   \n",
      "542              no              no        0  ...      False      False   \n",
      "543              no              no        0  ...      False      False   \n",
      "544              no              no        0  ...      False      False   \n",
      "\n",
      "     area_11440  area_11460  area_12090  area_12900  area_12944  area_13200  \\\n",
      "0         False       False       False       False       False       False   \n",
      "1         False       False       False       False       False       False   \n",
      "2         False       False       False       False       False       False   \n",
      "3         False       False       False       False       False       False   \n",
      "4         False       False       False       False       False       False   \n",
      "..          ...         ...         ...         ...         ...         ...   \n",
      "540       False       False       False       False       False       False   \n",
      "541       False       False       False       False       False       False   \n",
      "542       False       False       False       False       False       False   \n",
      "543       False       False       False       False       False       False   \n",
      "544       False       False       False       False       False       False   \n",
      "\n",
      "     area_15600  area_16200  \n",
      "0         False       False  \n",
      "1         False       False  \n",
      "2         False       False  \n",
      "3         False       False  \n",
      "4         False       False  \n",
      "..          ...         ...  \n",
      "540       False       False  \n",
      "541       False       False  \n",
      "542       False       False  \n",
      "543       False       False  \n",
      "544       False       False  \n",
      "\n",
      "[545 rows x 295 columns]\n"
     ]
    }
   ],
   "source": [
    "#8  Avoiding the Dummy Variable Trap\n",
    "df_encoded = pd.get_dummies(df, columns=['area'],drop_first=True)\n",
    "print(df_encoded)"
   ]
  },
  {
   "cell_type": "code",
   "execution_count": 47,
   "id": "488d83f7-f328-4710-b8be-d60605f18f41",
   "metadata": {},
   "outputs": [
    {
     "name": "stdout",
     "output_type": "stream",
     "text": [
      "Standardized Data (Z-score):\n",
      "       price      area  bedrooms  bathrooms   stories mainroad guestroom  \\\n",
      "0  4.566365  1.046726  1.403419   1.421812  1.378217      yes        no   \n",
      "1  4.004484  1.757010  1.403419   5.405809  2.532024      yes        no   \n",
      "2  4.004484  2.218232  0.047278   1.421812  0.224410      yes        no   \n",
      "3  3.985755  1.083624  1.403419   1.421812  0.224410      yes        no   \n",
      "4  3.554979  1.046726  1.403419  -0.570187  0.224410      yes       yes   \n",
      "\n",
      "  basement hotwaterheating airconditioning   parking prefarea furnishingstatus  \n",
      "0       no              no             yes  1.517692      yes        furnished  \n",
      "1       no              no             yes  2.679409       no        furnished  \n",
      "2      yes              no              no  1.517692      yes   semi-furnished  \n",
      "3      yes              no             yes  2.679409      yes        furnished  \n",
      "4      yes              no             yes  1.517692       no        furnished  \n",
      "\n",
      "Min-Max Scaled Data (0 to 1):\n",
      "       price      area  bedrooms  bathrooms   stories mainroad guestroom  \\\n",
      "0  1.000000  0.396564       0.6   0.333333  0.666667      yes        no   \n",
      "1  0.909091  0.502405       0.6   1.000000  1.000000      yes        no   \n",
      "2  0.909091  0.571134       0.4   0.333333  0.333333      yes        no   \n",
      "3  0.906061  0.402062       0.6   0.333333  0.333333      yes        no   \n",
      "4  0.836364  0.396564       0.6   0.000000  0.333333      yes       yes   \n",
      "\n",
      "  basement hotwaterheating airconditioning   parking prefarea furnishingstatus  \n",
      "0       no              no             yes  0.666667      yes        furnished  \n",
      "1       no              no             yes  1.000000       no        furnished  \n",
      "2      yes              no              no  0.666667      yes   semi-furnished  \n",
      "3      yes              no             yes  1.000000      yes        furnished  \n",
      "4      yes              no             yes  0.666667       no        furnished  \n"
     ]
    }
   ],
   "source": [
    "#9 Apply feature scaling on numerical variables\n",
    "from sklearn.preprocessing import StandardScaler, MinMaxScaler\n",
    "numerical_cols = df.select_dtypes(include=['int64', 'float64']).columns\n",
    "\n",
    "# Standardization (Z-score normalization)\n",
    "scaler_standard = StandardScaler()\n",
    "df_standardized = df.copy()\n",
    "df_standardized[numerical_cols] = scaler_standard.fit_transform(df[numerical_cols])\n",
    "\n",
    "# Min-Max Scaling (Normalization)\n",
    "scaler_minmax = MinMaxScaler()\n",
    "df_normalized = df.copy()\n",
    "df_normalized[numerical_cols] = scaler_minmax.fit_transform(df[numerical_cols])\n",
    "\n",
    "# Display scaled datasets\n",
    "print(\"Standardized Data (Z-score):\\n\", df_standardized.head())\n",
    "print(\"\\nMin-Max Scaled Data (0 to 1):\\n\", df_normalized.head())\n"
   ]
  },
  {
   "cell_type": "code",
   "execution_count": 51,
   "id": "1acf2436-7668-4eb9-9b9f-48d4a2976020",
   "metadata": {},
   "outputs": [
    {
     "name": "stdout",
     "output_type": "stream",
     "text": [
      "X_train shape: (381, 12)\n",
      "X_test shape: (164, 12)\n",
      "y_train shape: (381,)\n",
      "y_test shape: (164,)\n"
     ]
    }
   ],
   "source": [
    "#10 Split Data into Training and Testing Sets (70%-Train 30%-Test) - X_train, y_train, X_test, y_test\n",
    "from sklearn.model_selection import train_test_split\n",
    "X = df.drop(columns=['price'])  # Replace 'Price' with the actual target column in your dataset\n",
    "y = df['price']  # Target variable\n",
    "\n",
    "# Split dataset into 70% training and 30% testing\n",
    "X_train, X_test, y_train, y_test = train_test_split(X, y, test_size=0.30, random_state=42)\n",
    "\n",
    "# Display dataset sizes\n",
    "print(\"X_train shape:\", X_train.shape)\n",
    "print(\"X_test shape:\", X_test.shape)\n",
    "print(\"y_train shape:\", y_train.shape)\n",
    "print(\"y_test shape:\", y_test.shape)"
   ]
  },
  {
   "cell_type": "code",
   "execution_count": null,
   "id": "d011419c-d0e5-4186-8e0d-b5f1d42d3dbd",
   "metadata": {},
   "outputs": [],
   "source": [
    "#11 Fitting Multiple Linear Regression to the Training"
   ]
  },
  {
   "cell_type": "code",
   "execution_count": null,
   "id": "2c57f32b-58dc-4a80-839b-b3cfa29ac3c4",
   "metadata": {},
   "outputs": [],
   "source": [
    "#12 Predict on the train set and calculate the error = y_pred - y_train"
   ]
  },
  {
   "cell_type": "code",
   "execution_count": null,
   "id": "af715af0-0022-4851-b3b0-ffd7898ef2ae",
   "metadata": {},
   "outputs": [],
   "source": [
    "#13  Residual plot - plot y_pred in x axis and errors in y axis"
   ]
  },
  {
   "cell_type": "code",
   "execution_count": null,
   "id": "588a7ea5-6745-4930-9d37-8cb25ec48ddb",
   "metadata": {},
   "outputs": [],
   "source": [
    "#14  Predic on the test set"
   ]
  },
  {
   "cell_type": "code",
   "execution_count": null,
   "id": "0e896fc1-af23-4842-b710-223d0982666e",
   "metadata": {},
   "outputs": [],
   "source": [
    "#15 Residual plot - plot y_pred in x axis and errors in y axis"
   ]
  },
  {
   "cell_type": "code",
   "execution_count": null,
   "id": "aabaab50-706c-413f-ab29-47ede66917b1",
   "metadata": {},
   "outputs": [],
   "source": [
    "#16 Print Mean Squared Error and R Squared Value"
   ]
  },
  {
   "cell_type": "code",
   "execution_count": null,
   "id": "89e98b63-04b7-4a82-b324-6108cf4cd79a",
   "metadata": {},
   "outputs": [],
   "source": [
    "#17 Check  Adjusted R Squared Value(by selecting different no of input variables insted of all)"
   ]
  }
 ],
 "metadata": {
  "kernelspec": {
   "display_name": "Python 3 (ipykernel)",
   "language": "python",
   "name": "python3"
  },
  "language_info": {
   "codemirror_mode": {
    "name": "ipython",
    "version": 3
   },
   "file_extension": ".py",
   "mimetype": "text/x-python",
   "name": "python",
   "nbconvert_exporter": "python",
   "pygments_lexer": "ipython3",
   "version": "3.11.7"
  }
 },
 "nbformat": 4,
 "nbformat_minor": 5
}
